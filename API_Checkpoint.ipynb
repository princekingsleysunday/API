{
 "cells": [
  {
   "cell_type": "markdown",
   "id": "ba99413d",
   "metadata": {},
   "source": [
    "# What is API\n",
    "API is the acronym for Application Programming Interface, which is a server that you can use to retrieve and send data to using code.\n",
    "When you use an application on your mobile phone, the application connects to the Internet and sends data to a server. The server then retrieves that data, interprets it, performs the necessary actions and sends it back to your phone. \n",
    "The application then interprets that data and presents you with the information you wanted in a readable way."
   ]
  },
  {
   "cell_type": "code",
   "execution_count": 1,
   "id": "51a7593a",
   "metadata": {},
   "outputs": [],
   "source": [
    "import requests"
   ]
  },
  {
   "cell_type": "code",
   "execution_count": 2,
   "id": "c4ce0189",
   "metadata": {},
   "outputs": [],
   "source": [
    "\n",
    "url = 'http://api.open-notify.org/astros.json'\n",
    "\n",
    "data = requests.get(url)"
   ]
  },
  {
   "cell_type": "code",
   "execution_count": 3,
   "id": "dcadcd66",
   "metadata": {},
   "outputs": [
    {
     "data": {
      "text/plain": [
       "200"
      ]
     },
     "execution_count": 3,
     "metadata": {},
     "output_type": "execute_result"
    }
   ],
   "source": [
    "data.status_code"
   ]
  },
  {
   "cell_type": "code",
   "execution_count": 4,
   "id": "e971cf08",
   "metadata": {},
   "outputs": [
    {
     "data": {
      "text/plain": [
       "{'message': 'success',\n",
       " 'people': [{'name': 'Sergey Prokopyev', 'craft': 'ISS'},\n",
       "  {'name': 'Dmitry Petelin', 'craft': 'ISS'},\n",
       "  {'name': 'Frank Rubio', 'craft': 'ISS'},\n",
       "  {'name': 'Nicole Mann', 'craft': 'ISS'},\n",
       "  {'name': 'Josh Cassada', 'craft': 'ISS'},\n",
       "  {'name': 'Koichi Wakata', 'craft': 'ISS'},\n",
       "  {'name': 'Anna Kikina', 'craft': 'ISS'},\n",
       "  {'name': 'Fei Junlong', 'craft': 'Shenzhou 15'},\n",
       "  {'name': 'Deng Qingming', 'craft': 'Shenzhou 15'},\n",
       "  {'name': 'Zhang Lu', 'craft': 'Shenzhou 15'}],\n",
       " 'number': 10}"
      ]
     },
     "execution_count": 4,
     "metadata": {},
     "output_type": "execute_result"
    }
   ],
   "source": [
    "data_json = data.json()\n",
    "\n",
    "data_json"
   ]
  },
  {
   "cell_type": "code",
   "execution_count": 6,
   "id": "77f24417",
   "metadata": {},
   "outputs": [
    {
     "name": "stdout",
     "output_type": "stream",
     "text": [
      "[{'name': 'Sergey Prokopyev', 'craft': 'ISS'}, {'name': 'Dmitry Petelin', 'craft': 'ISS'}, {'name': 'Frank Rubio', 'craft': 'ISS'}, {'name': 'Nicole Mann', 'craft': 'ISS'}, {'name': 'Josh Cassada', 'craft': 'ISS'}, {'name': 'Koichi Wakata', 'craft': 'ISS'}, {'name': 'Anna Kikina', 'craft': 'ISS'}, {'name': 'Fei Junlong', 'craft': 'Shenzhou 15'}, {'name': 'Deng Qingming', 'craft': 'Shenzhou 15'}, {'name': 'Zhang Lu', 'craft': 'Shenzhou 15'}]\n"
     ]
    }
   ],
   "source": [
    "print(data_json['people'])"
   ]
  },
  {
   "cell_type": "code",
   "execution_count": 15,
   "id": "327f6fa4",
   "metadata": {},
   "outputs": [
    {
     "name": "stdout",
     "output_type": "stream",
     "text": [
      "   message                                             people  number\n",
      "0  success       {'name': 'Sergey Prokopyev', 'craft': 'ISS'}      10\n",
      "1  success         {'name': 'Dmitry Petelin', 'craft': 'ISS'}      10\n",
      "2  success            {'name': 'Frank Rubio', 'craft': 'ISS'}      10\n",
      "3  success            {'name': 'Nicole Mann', 'craft': 'ISS'}      10\n",
      "4  success           {'name': 'Josh Cassada', 'craft': 'ISS'}      10\n",
      "5  success          {'name': 'Koichi Wakata', 'craft': 'ISS'}      10\n",
      "6  success            {'name': 'Anna Kikina', 'craft': 'ISS'}      10\n",
      "7  success    {'name': 'Fei Junlong', 'craft': 'Shenzhou 15'}      10\n",
      "8  success  {'name': 'Deng Qingming', 'craft': 'Shenzhou 15'}      10\n",
      "9  success       {'name': 'Zhang Lu', 'craft': 'Shenzhou 15'}      10\n"
     ]
    }
   ],
   "source": [
    "import pandas as pd\n",
    "\n",
    "# Read the JSON file\n",
    "df = pd.read_json('http://api.open-notify.org/astros.json')\n",
    "\n",
    "# Print the DataFrame\n",
    "print(df)\n"
   ]
  },
  {
   "cell_type": "code",
   "execution_count": 16,
   "id": "9de07196",
   "metadata": {},
   "outputs": [
    {
     "data": {
      "text/html": [
       "<div>\n",
       "<style scoped>\n",
       "    .dataframe tbody tr th:only-of-type {\n",
       "        vertical-align: middle;\n",
       "    }\n",
       "\n",
       "    .dataframe tbody tr th {\n",
       "        vertical-align: top;\n",
       "    }\n",
       "\n",
       "    .dataframe thead th {\n",
       "        text-align: right;\n",
       "    }\n",
       "</style>\n",
       "<table border=\"1\" class=\"dataframe\">\n",
       "  <thead>\n",
       "    <tr style=\"text-align: right;\">\n",
       "      <th></th>\n",
       "      <th>message</th>\n",
       "      <th>people</th>\n",
       "      <th>number</th>\n",
       "    </tr>\n",
       "  </thead>\n",
       "  <tbody>\n",
       "    <tr>\n",
       "      <th>0</th>\n",
       "      <td>success</td>\n",
       "      <td>{'name': 'Sergey Prokopyev', 'craft': 'ISS'}</td>\n",
       "      <td>10</td>\n",
       "    </tr>\n",
       "    <tr>\n",
       "      <th>1</th>\n",
       "      <td>success</td>\n",
       "      <td>{'name': 'Dmitry Petelin', 'craft': 'ISS'}</td>\n",
       "      <td>10</td>\n",
       "    </tr>\n",
       "    <tr>\n",
       "      <th>2</th>\n",
       "      <td>success</td>\n",
       "      <td>{'name': 'Frank Rubio', 'craft': 'ISS'}</td>\n",
       "      <td>10</td>\n",
       "    </tr>\n",
       "    <tr>\n",
       "      <th>3</th>\n",
       "      <td>success</td>\n",
       "      <td>{'name': 'Nicole Mann', 'craft': 'ISS'}</td>\n",
       "      <td>10</td>\n",
       "    </tr>\n",
       "    <tr>\n",
       "      <th>4</th>\n",
       "      <td>success</td>\n",
       "      <td>{'name': 'Josh Cassada', 'craft': 'ISS'}</td>\n",
       "      <td>10</td>\n",
       "    </tr>\n",
       "    <tr>\n",
       "      <th>5</th>\n",
       "      <td>success</td>\n",
       "      <td>{'name': 'Koichi Wakata', 'craft': 'ISS'}</td>\n",
       "      <td>10</td>\n",
       "    </tr>\n",
       "    <tr>\n",
       "      <th>6</th>\n",
       "      <td>success</td>\n",
       "      <td>{'name': 'Anna Kikina', 'craft': 'ISS'}</td>\n",
       "      <td>10</td>\n",
       "    </tr>\n",
       "    <tr>\n",
       "      <th>7</th>\n",
       "      <td>success</td>\n",
       "      <td>{'name': 'Fei Junlong', 'craft': 'Shenzhou 15'}</td>\n",
       "      <td>10</td>\n",
       "    </tr>\n",
       "    <tr>\n",
       "      <th>8</th>\n",
       "      <td>success</td>\n",
       "      <td>{'name': 'Deng Qingming', 'craft': 'Shenzhou 15'}</td>\n",
       "      <td>10</td>\n",
       "    </tr>\n",
       "    <tr>\n",
       "      <th>9</th>\n",
       "      <td>success</td>\n",
       "      <td>{'name': 'Zhang Lu', 'craft': 'Shenzhou 15'}</td>\n",
       "      <td>10</td>\n",
       "    </tr>\n",
       "  </tbody>\n",
       "</table>\n",
       "</div>"
      ],
      "text/plain": [
       "   message                                             people  number\n",
       "0  success       {'name': 'Sergey Prokopyev', 'craft': 'ISS'}      10\n",
       "1  success         {'name': 'Dmitry Petelin', 'craft': 'ISS'}      10\n",
       "2  success            {'name': 'Frank Rubio', 'craft': 'ISS'}      10\n",
       "3  success            {'name': 'Nicole Mann', 'craft': 'ISS'}      10\n",
       "4  success           {'name': 'Josh Cassada', 'craft': 'ISS'}      10\n",
       "5  success          {'name': 'Koichi Wakata', 'craft': 'ISS'}      10\n",
       "6  success            {'name': 'Anna Kikina', 'craft': 'ISS'}      10\n",
       "7  success    {'name': 'Fei Junlong', 'craft': 'Shenzhou 15'}      10\n",
       "8  success  {'name': 'Deng Qingming', 'craft': 'Shenzhou 15'}      10\n",
       "9  success       {'name': 'Zhang Lu', 'craft': 'Shenzhou 15'}      10"
      ]
     },
     "execution_count": 16,
     "metadata": {},
     "output_type": "execute_result"
    }
   ],
   "source": [
    "df"
   ]
  },
  {
   "cell_type": "code",
   "execution_count": null,
   "id": "f0e34fb9",
   "metadata": {},
   "outputs": [],
   "source": []
  }
 ],
 "metadata": {
  "kernelspec": {
   "display_name": "Python 3 (ipykernel)",
   "language": "python",
   "name": "python3"
  },
  "language_info": {
   "codemirror_mode": {
    "name": "ipython",
    "version": 3
   },
   "file_extension": ".py",
   "mimetype": "text/x-python",
   "name": "python",
   "nbconvert_exporter": "python",
   "pygments_lexer": "ipython3",
   "version": "3.9.12"
  }
 },
 "nbformat": 4,
 "nbformat_minor": 5
}
